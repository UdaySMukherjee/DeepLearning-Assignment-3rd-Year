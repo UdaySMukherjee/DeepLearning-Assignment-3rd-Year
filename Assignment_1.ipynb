{
  "nbformat": 4,
  "nbformat_minor": 0,
  "metadata": {
    "colab": {
      "provenance": [],
      "authorship_tag": "ABX9TyOkQI0UgTmyqOtx9WhzOi0v",
      "include_colab_link": true
    },
    "kernelspec": {
      "name": "python3",
      "display_name": "Python 3"
    },
    "language_info": {
      "name": "python"
    }
  },
  "cells": [
    {
      "cell_type": "markdown",
      "metadata": {
        "id": "view-in-github",
        "colab_type": "text"
      },
      "source": [
        "<a href=\"https://colab.research.google.com/github/UdaySMukherjee/DeepLearning-Assignment-3rd-Year/blob/main/Assignment_1.ipynb\" target=\"_parent\"><img src=\"https://colab.research.google.com/assets/colab-badge.svg\" alt=\"Open In Colab\"/></a>"
      ]
    },
    {
      "cell_type": "code",
      "execution_count": 16,
      "metadata": {
        "id": "vicuZsUW3mVC"
      },
      "outputs": [],
      "source": [
        "# Importing the numpy library as np\n",
        "import numpy as np"
      ]
    },
    {
      "cell_type": "code",
      "source": [
        "# Creating a 2D numpy array to store input values for a logical operation (AND, OR, etc.)\n",
        "input_value=np.array([[0,0], [0,1], [1,0], [1,1]])\n",
        "# Printing the shape of the input_value array (4 rows, 2 columns)\n",
        "input_value.shape\n",
        "input_value"
      ],
      "metadata": {
        "colab": {
          "base_uri": "https://localhost:8080/"
        },
        "id": "zEKg54XO3nr2",
        "outputId": "c02cfb99-6fda-4544-d008-82d681cbbbdb"
      },
      "execution_count": 17,
      "outputs": [
        {
          "output_type": "execute_result",
          "data": {
            "text/plain": [
              "array([[0, 0],\n",
              "       [0, 1],\n",
              "       [1, 0],\n",
              "       [1, 1]])"
            ]
          },
          "metadata": {},
          "execution_count": 17
        }
      ]
    },
    {
      "cell_type": "code",
      "source": [
        "# Creating a 1D numpy array to store output values for the corresponding input values\n",
        "output=np.array([0,1,1,0])\n",
        "# Reshaping the output array to a 2D array with 4 rows and 1 column\n",
        "output=output.reshape(4,1)\n",
        "output.shape"
      ],
      "metadata": {
        "colab": {
          "base_uri": "https://localhost:8080/"
        },
        "id": "2MR8Rrca4BXH",
        "outputId": "54c98f46-6a02-412c-8ec6-6f0e9269f67c"
      },
      "execution_count": 18,
      "outputs": [
        {
          "output_type": "execute_result",
          "data": {
            "text/plain": [
              "(4, 1)"
            ]
          },
          "metadata": {},
          "execution_count": 18
        }
      ]
    },
    {
      "cell_type": "code",
      "source": [
        "# Creating a 2D numpy array to store weights for the neural network\n",
        "weights=np.array([[0.1],[0.2]])\n",
        "weights"
      ],
      "metadata": {
        "colab": {
          "base_uri": "https://localhost:8080/"
        },
        "id": "NTVB_YdN4Dp8",
        "outputId": "18703e1b-ab55-4cbe-f0fc-6d59f5574268"
      },
      "execution_count": 19,
      "outputs": [
        {
          "output_type": "execute_result",
          "data": {
            "text/plain": [
              "array([[0.1],\n",
              "       [0.2]])"
            ]
          },
          "metadata": {},
          "execution_count": 19
        }
      ]
    },
    {
      "cell_type": "code",
      "source": [
        "# Defining the bias value for the neural network\n",
        "bias = -0.3"
      ],
      "metadata": {
        "id": "QqR2CNzF4GDf"
      },
      "execution_count": 20,
      "outputs": []
    },
    {
      "cell_type": "code",
      "source": [
        "def sigmoid_func(x):\n",
        "    return 1 / (1 + np.exp(-x))\n",
        "\n",
        "# Assuming weight and bias are provided with appropriate values\n",
        "weight = np.array([0.5, 0.8])\n",
        "bias = -0.3\n",
        "\n",
        "# Input values for prediction (assuming two input features)\n",
        "pred = np.array([0, 1])\n",
        "# Calculating the result of the weighted sum of input features (dot product of pred and weight) and adding the bias\n",
        "result = np.dot(pred, weight) + bias\n",
        "# Applying the sigmoid function to the result to obtain the final prediction probability\n",
        "res = sigmoid_func(result)\n",
        "\n",
        "print(res)"
      ],
      "metadata": {
        "colab": {
          "base_uri": "https://localhost:8080/"
        },
        "id": "H-BOJ2cu4R5_",
        "outputId": "8b51568a-612e-467e-f7f9-69d04bf757d3"
      },
      "execution_count": 21,
      "outputs": [
        {
          "output_type": "stream",
          "name": "stdout",
          "text": [
            "0.6224593312018546\n"
          ]
        }
      ]
    },
    {
      "cell_type": "code",
      "source": [
        "def tanh_func(x):\n",
        "    return np.tanh(x)\n",
        "\n",
        "def der_tanh(y):\n",
        "    # Derivative of the tanh function\n",
        "    return 1 - np.square(y)\n",
        "\n",
        "# Assuming weight and bias are provided with appropriate values\n",
        "weight = np.array([0.5, 0.8])\n",
        "bias = -0.3\n",
        "# Input values for prediction (assuming two input features)\n",
        "pred = np.array([0, 1])\n",
        "# Calculating the result of the weighted sum of input features (dot product of pred and weight) and adding the bias\n",
        "result = np.dot(pred, weight) + bias\n",
        "# Applying the tanh function to the result to obtain the final prediction probability\n",
        "res = tanh_func(result)\n",
        "\n",
        "print(res)"
      ],
      "metadata": {
        "colab": {
          "base_uri": "https://localhost:8080/"
        },
        "id": "lafP1ybM4P--",
        "outputId": "5e523ec9-64a3-4ad0-ca32-828a1d75d6ca"
      },
      "execution_count": 22,
      "outputs": [
        {
          "output_type": "stream",
          "name": "stdout",
          "text": [
            "0.46211715726000974\n"
          ]
        }
      ]
    },
    {
      "cell_type": "code",
      "source": [
        "def relu_func(x):\n",
        "    return np.maximum(0, x)\n",
        "\n",
        "def der_relu(y):\n",
        "    # Derivative of the ReLU function\n",
        "    return 1 * (y > 0)\n",
        "\n",
        "# Assuming weight and bias are provided with appropriate values\n",
        "weight = np.array([0.5, 0.8])\n",
        "bias = -0.3\n",
        "# Input values for prediction (assuming two input features)\n",
        "pred = np.array([0, 1])\n",
        "# Calculating the result of the weighted sum of input features (dot product of pred and weight) and adding the bias\n",
        "result = np.dot(pred, weight) + bias\n",
        "# Applying the relu function to the result to obtain the final prediction probability\n",
        "res = relu_func(result)\n",
        "\n",
        "print(res)"
      ],
      "metadata": {
        "colab": {
          "base_uri": "https://localhost:8080/"
        },
        "id": "r9OecUMf4YWl",
        "outputId": "ecbb5d18-24e5-4344-af59-a2f1375da41c"
      },
      "execution_count": 23,
      "outputs": [
        {
          "output_type": "stream",
          "name": "stdout",
          "text": [
            "0.5\n"
          ]
        }
      ]
    },
    {
      "cell_type": "code",
      "source": [
        "def leaky_relu_func(x, leaky_slope=0.01):\n",
        "    return np.maximum(leaky_slope * x, x)\n",
        "\n",
        "def der_leaky_relu(y, leaky_slope=0.01):\n",
        "    # Derivative of the Leaky ReLU function\n",
        "    return 1.0 * (y > 0) + leaky_slope * (y <= 0)\n",
        "\n",
        "# Assuming weight and bias are provided with appropriate values\n",
        "weight = np.array([0.5, 0.8])\n",
        "bias = -0.3\n",
        "# Input values for prediction (assuming two input features)\n",
        "pred = np.array([0, 1])\n",
        "# Calculating the result of the weighted sum of input features (dot product of pred and weight) and adding the bias\n",
        "result = np.dot(pred, weight) + bias\n",
        "# Applying the leaky_relu function to the result to obtain the final prediction probability\n",
        "res = leaky_relu_func(result)\n",
        "\n",
        "print(res)"
      ],
      "metadata": {
        "colab": {
          "base_uri": "https://localhost:8080/"
        },
        "id": "KDzoKdwZ4cdU",
        "outputId": "bd4fa5c7-cc3a-42b9-c63d-2b25b67dd0c8"
      },
      "execution_count": 24,
      "outputs": [
        {
          "output_type": "stream",
          "name": "stdout",
          "text": [
            "0.5\n"
          ]
        }
      ]
    }
  ]
}